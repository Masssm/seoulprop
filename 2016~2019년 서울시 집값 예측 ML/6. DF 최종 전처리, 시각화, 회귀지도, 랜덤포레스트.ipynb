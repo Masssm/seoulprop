version https://git-lfs.github.com/spec/v1
oid sha256:bb58bdf7bbb4f22324923190d0ba5d9d20672e655614fcd15a2ad39ea7c68886
size 1707395
